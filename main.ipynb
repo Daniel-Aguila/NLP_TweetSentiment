{
 "cells": [
  {
   "cell_type": "code",
   "execution_count": 926,
   "metadata": {},
   "outputs": [],
   "source": [
    "import nltk\n",
    "import matplotlib.pyplot as plt\n",
    "import pandas as pd\n",
    "import numpy as np\n",
    "import random\n",
    "import seaborn as sns"
   ]
  },
  {
   "cell_type": "code",
   "execution_count": 927,
   "metadata": {},
   "outputs": [],
   "source": [
    "df_train = pd.read_csv('train.csv')\n",
    "df_test = pd.read_csv('test.csv')\n",
    "\n",
    "df_train = df_train.drop(['textID','selected_text'],axis=1)\n",
    "df_test = df_test.drop(['textID'],axis=1)"
   ]
  },
  {
   "cell_type": "markdown",
   "metadata": {},
   "source": [
    "Now we only have positive and negative sentiments"
   ]
  },
  {
   "cell_type": "code",
   "execution_count": 928,
   "metadata": {},
   "outputs": [],
   "source": [
    "df_train = df_train[df_train['sentiment']!='neutral']\n",
    "df_train_features = df_train['text']\n",
    "df_train_labels = df_train['sentiment']"
   ]
  },
  {
   "cell_type": "code",
   "execution_count": 929,
   "metadata": {},
   "outputs": [
    {
     "data": {
      "text/plain": [
       "1            Sooo SAD I will miss you here in San Diego!!!\n",
       "2                                my boss is bullying me...\n",
       "3                           what interview! leave me alone\n",
       "4         Sons of ****, why couldn`t they put them on t...\n",
       "6        2am feedings for the baby are fun when he is a...\n",
       "                               ...                        \n",
       "27475                                       enjoy ur night\n",
       "27476     wish we could come see u on Denver  husband l...\n",
       "27477     I`ve wondered about rake to.  The client has ...\n",
       "27478     Yay good for both of you. Enjoy the break - y...\n",
       "27479                           But it was worth it  ****.\n",
       "Name: text, Length: 16363, dtype: object"
      ]
     },
     "execution_count": 929,
     "metadata": {},
     "output_type": "execute_result"
    }
   ],
   "source": [
    "df_train_features"
   ]
  },
  {
   "cell_type": "code",
   "execution_count": 930,
   "metadata": {},
   "outputs": [
    {
     "data": {
      "text/plain": [
       "1        negative\n",
       "2        negative\n",
       "3        negative\n",
       "4        negative\n",
       "6        positive\n",
       "           ...   \n",
       "27475    positive\n",
       "27476    negative\n",
       "27477    negative\n",
       "27478    positive\n",
       "27479    positive\n",
       "Name: sentiment, Length: 16363, dtype: object"
      ]
     },
     "execution_count": 930,
     "metadata": {},
     "output_type": "execute_result"
    }
   ],
   "source": [
    "df_train_labels"
   ]
  },
  {
   "cell_type": "markdown",
   "metadata": {},
   "source": [
    "<h1>Look at the data and see if we have any missing values</h1>"
   ]
  },
  {
   "cell_type": "code",
   "execution_count": 931,
   "metadata": {},
   "outputs": [
    {
     "data": {
      "text/html": [
       "<div>\n",
       "<style scoped>\n",
       "    .dataframe tbody tr th:only-of-type {\n",
       "        vertical-align: middle;\n",
       "    }\n",
       "\n",
       "    .dataframe tbody tr th {\n",
       "        vertical-align: top;\n",
       "    }\n",
       "\n",
       "    .dataframe thead th {\n",
       "        text-align: right;\n",
       "    }\n",
       "</style>\n",
       "<table border=\"1\" class=\"dataframe\">\n",
       "  <thead>\n",
       "    <tr style=\"text-align: right;\">\n",
       "      <th></th>\n",
       "      <th>text</th>\n",
       "      <th>sentiment</th>\n",
       "    </tr>\n",
       "  </thead>\n",
       "  <tbody>\n",
       "    <tr>\n",
       "      <th>1</th>\n",
       "      <td>Sooo SAD I will miss you here in San Diego!!!</td>\n",
       "      <td>negative</td>\n",
       "    </tr>\n",
       "    <tr>\n",
       "      <th>2</th>\n",
       "      <td>my boss is bullying me...</td>\n",
       "      <td>negative</td>\n",
       "    </tr>\n",
       "    <tr>\n",
       "      <th>3</th>\n",
       "      <td>what interview! leave me alone</td>\n",
       "      <td>negative</td>\n",
       "    </tr>\n",
       "    <tr>\n",
       "      <th>4</th>\n",
       "      <td>Sons of ****, why couldn`t they put them on t...</td>\n",
       "      <td>negative</td>\n",
       "    </tr>\n",
       "    <tr>\n",
       "      <th>6</th>\n",
       "      <td>2am feedings for the baby are fun when he is a...</td>\n",
       "      <td>positive</td>\n",
       "    </tr>\n",
       "    <tr>\n",
       "      <th>...</th>\n",
       "      <td>...</td>\n",
       "      <td>...</td>\n",
       "    </tr>\n",
       "    <tr>\n",
       "      <th>27475</th>\n",
       "      <td>enjoy ur night</td>\n",
       "      <td>positive</td>\n",
       "    </tr>\n",
       "    <tr>\n",
       "      <th>27476</th>\n",
       "      <td>wish we could come see u on Denver  husband l...</td>\n",
       "      <td>negative</td>\n",
       "    </tr>\n",
       "    <tr>\n",
       "      <th>27477</th>\n",
       "      <td>I`ve wondered about rake to.  The client has ...</td>\n",
       "      <td>negative</td>\n",
       "    </tr>\n",
       "    <tr>\n",
       "      <th>27478</th>\n",
       "      <td>Yay good for both of you. Enjoy the break - y...</td>\n",
       "      <td>positive</td>\n",
       "    </tr>\n",
       "    <tr>\n",
       "      <th>27479</th>\n",
       "      <td>But it was worth it  ****.</td>\n",
       "      <td>positive</td>\n",
       "    </tr>\n",
       "  </tbody>\n",
       "</table>\n",
       "<p>16363 rows × 2 columns</p>\n",
       "</div>"
      ],
      "text/plain": [
       "                                                    text sentiment\n",
       "1          Sooo SAD I will miss you here in San Diego!!!  negative\n",
       "2                              my boss is bullying me...  negative\n",
       "3                         what interview! leave me alone  negative\n",
       "4       Sons of ****, why couldn`t they put them on t...  negative\n",
       "6      2am feedings for the baby are fun when he is a...  positive\n",
       "...                                                  ...       ...\n",
       "27475                                     enjoy ur night  positive\n",
       "27476   wish we could come see u on Denver  husband l...  negative\n",
       "27477   I`ve wondered about rake to.  The client has ...  negative\n",
       "27478   Yay good for both of you. Enjoy the break - y...  positive\n",
       "27479                         But it was worth it  ****.  positive\n",
       "\n",
       "[16363 rows x 2 columns]"
      ]
     },
     "metadata": {},
     "output_type": "display_data"
    }
   ],
   "source": [
    "display(df_train)"
   ]
  },
  {
   "cell_type": "code",
   "execution_count": 932,
   "metadata": {},
   "outputs": [
    {
     "data": {
      "text/html": [
       "<div>\n",
       "<style scoped>\n",
       "    .dataframe tbody tr th:only-of-type {\n",
       "        vertical-align: middle;\n",
       "    }\n",
       "\n",
       "    .dataframe tbody tr th {\n",
       "        vertical-align: top;\n",
       "    }\n",
       "\n",
       "    .dataframe thead th {\n",
       "        text-align: right;\n",
       "    }\n",
       "</style>\n",
       "<table border=\"1\" class=\"dataframe\">\n",
       "  <thead>\n",
       "    <tr style=\"text-align: right;\">\n",
       "      <th></th>\n",
       "      <th>text</th>\n",
       "      <th>sentiment</th>\n",
       "    </tr>\n",
       "  </thead>\n",
       "  <tbody>\n",
       "    <tr>\n",
       "      <th>count</th>\n",
       "      <td>16363</td>\n",
       "      <td>16363</td>\n",
       "    </tr>\n",
       "    <tr>\n",
       "      <th>unique</th>\n",
       "      <td>16363</td>\n",
       "      <td>2</td>\n",
       "    </tr>\n",
       "    <tr>\n",
       "      <th>top</th>\n",
       "      <td>Sooo SAD I will miss you here in San Diego!!!</td>\n",
       "      <td>positive</td>\n",
       "    </tr>\n",
       "    <tr>\n",
       "      <th>freq</th>\n",
       "      <td>1</td>\n",
       "      <td>8582</td>\n",
       "    </tr>\n",
       "  </tbody>\n",
       "</table>\n",
       "</div>"
      ],
      "text/plain": [
       "                                                  text sentiment\n",
       "count                                            16363     16363\n",
       "unique                                           16363         2\n",
       "top      Sooo SAD I will miss you here in San Diego!!!  positive\n",
       "freq                                                 1      8582"
      ]
     },
     "execution_count": 932,
     "metadata": {},
     "output_type": "execute_result"
    }
   ],
   "source": [
    "df_train.describe()"
   ]
  },
  {
   "cell_type": "code",
   "execution_count": 933,
   "metadata": {},
   "outputs": [
    {
     "name": "stdout",
     "output_type": "stream",
     "text": [
      "<class 'pandas.core.frame.DataFrame'>\n",
      "Index: 16363 entries, 1 to 27479\n",
      "Data columns (total 2 columns):\n",
      " #   Column     Non-Null Count  Dtype \n",
      "---  ------     --------------  ----- \n",
      " 0   text       16363 non-null  object\n",
      " 1   sentiment  16363 non-null  object\n",
      "dtypes: object(2)\n",
      "memory usage: 383.5+ KB\n"
     ]
    }
   ],
   "source": [
    "df_train.info()"
   ]
  },
  {
   "cell_type": "markdown",
   "metadata": {},
   "source": [
    "<h3>Since it is quite small, we can just drop it</h3>"
   ]
  },
  {
   "cell_type": "code",
   "execution_count": 934,
   "metadata": {},
   "outputs": [
    {
     "data": {
      "text/plain": [
       "text         0\n",
       "sentiment    0\n",
       "dtype: int64"
      ]
     },
     "execution_count": 934,
     "metadata": {},
     "output_type": "execute_result"
    }
   ],
   "source": [
    "df_train.isna().sum()"
   ]
  },
  {
   "cell_type": "code",
   "execution_count": 935,
   "metadata": {},
   "outputs": [
    {
     "data": {
      "text/plain": [
       "text         0\n",
       "sentiment    0\n",
       "dtype: int64"
      ]
     },
     "execution_count": 935,
     "metadata": {},
     "output_type": "execute_result"
    }
   ],
   "source": [
    "df_test.isna().sum()"
   ]
  },
  {
   "cell_type": "code",
   "execution_count": 936,
   "metadata": {},
   "outputs": [],
   "source": [
    "df_train.dropna(inplace=True)"
   ]
  },
  {
   "cell_type": "code",
   "execution_count": 937,
   "metadata": {},
   "outputs": [
    {
     "data": {
      "text/plain": [
       "text         0\n",
       "sentiment    0\n",
       "dtype: int64"
      ]
     },
     "execution_count": 937,
     "metadata": {},
     "output_type": "execute_result"
    }
   ],
   "source": [
    "df_train.isna().sum()"
   ]
  },
  {
   "cell_type": "markdown",
   "metadata": {},
   "source": [
    "<h3>We can look more in detail into what these tweets contain</h3>"
   ]
  },
  {
   "cell_type": "markdown",
   "metadata": {},
   "source": [
    "We can see that we have cases in which the symbol ****  is being used to block a negative word. Often use in curse words for example f*** where, we can still see that the word does not have to entirely be censor."
   ]
  },
  {
   "cell_type": "code",
   "execution_count": 938,
   "metadata": {},
   "outputs": [
    {
     "data": {
      "text/plain": [
       "(16363, 2)"
      ]
     },
     "execution_count": 938,
     "metadata": {},
     "output_type": "execute_result"
    }
   ],
   "source": [
    "df_train.shape"
   ]
  },
  {
   "cell_type": "code",
   "execution_count": 939,
   "metadata": {},
   "outputs": [
    {
     "data": {
      "text/plain": [
       "1        Sooo SAD I will miss you here in San Diego!!!\n",
       "2                            my boss is bullying me...\n",
       "3                       what interview! leave me alone\n",
       "4     Sons of ****, why couldn`t they put them on t...\n",
       "6    2am feedings for the baby are fun when he is a...\n",
       "Name: text, dtype: object"
      ]
     },
     "execution_count": 939,
     "metadata": {},
     "output_type": "execute_result"
    }
   ],
   "source": [
    "df_train['text'].head()"
   ]
  },
  {
   "cell_type": "markdown",
   "metadata": {},
   "source": [
    "We download the stopwords that we will use to preprocess the data"
   ]
  },
  {
   "cell_type": "code",
   "execution_count": 940,
   "metadata": {},
   "outputs": [
    {
     "name": "stderr",
     "output_type": "stream",
     "text": [
      "[nltk_data] Downloading package stopwords to\n",
      "[nltk_data]     /Users/daguila/nltk_data...\n",
      "[nltk_data]   Package stopwords is already up-to-date!\n"
     ]
    },
    {
     "data": {
      "text/plain": [
       "True"
      ]
     },
     "execution_count": 940,
     "metadata": {},
     "output_type": "execute_result"
    }
   ],
   "source": [
    "nltk.download('stopwords')"
   ]
  },
  {
   "cell_type": "code",
   "execution_count": 941,
   "metadata": {},
   "outputs": [],
   "source": [
    "import re\n",
    "import string\n",
    "from nltk.corpus import stopwords\n",
    "from nltk.stem import PorterStemmer\n",
    "from nltk.tokenize import TweetTokenizer"
   ]
  },
  {
   "cell_type": "markdown",
   "metadata": {},
   "source": [
    "<h1>Preprocess</h1>"
   ]
  },
  {
   "cell_type": "markdown",
   "metadata": {},
   "source": [
    "<h3>Remove hyper links, marks and styles</h3>"
   ]
  },
  {
   "cell_type": "code",
   "execution_count": 942,
   "metadata": {},
   "outputs": [],
   "source": [
    "def removeHyperMarksStyles(df,text_feature):\n",
    "    tweetPreprocessing = \"\"\n",
    "    for index, row in df.iterrows():\n",
    "        tweetPreprocessing = re.sub(r'^RT[\\s]+','',row[text_feature]) #removes retweet text\n",
    "        tweetPreprocessing = re.sub(r'https?://[^\\s\\n\\r]+','',tweetPreprocessing) #removes hyperlinks\n",
    "        tweetPreprocessing = re.sub(r'#', '', tweetPreprocessing) #removes hashtags\n",
    "        df.at[index,text_feature] = tweetPreprocessing\n",
    "    return df"
   ]
  },
  {
   "cell_type": "code",
   "execution_count": 943,
   "metadata": {},
   "outputs": [],
   "source": [
    "df_train = removeHyperMarksStyles(df_train,'text')"
   ]
  },
  {
   "cell_type": "markdown",
   "metadata": {},
   "source": [
    "Since we are using tweets, nltk has a great tokenizer for it that allows us to remove caps, strips handles and reduces the length"
   ]
  },
  {
   "cell_type": "code",
   "execution_count": 944,
   "metadata": {},
   "outputs": [],
   "source": [
    "tokenizer = TweetTokenizer(preserve_case=False, strip_handles=True, reduce_len=True) "
   ]
  },
  {
   "cell_type": "markdown",
   "metadata": {},
   "source": [
    "<h3>Tokenize</h3>"
   ]
  },
  {
   "cell_type": "code",
   "execution_count": 945,
   "metadata": {},
   "outputs": [],
   "source": [
    "def getTokenizeList(df,text_feature,tokenizer):\n",
    "    tokenizeList = []\n",
    "    for index, row in df.iterrows():\n",
    "        tokenizeList.append(tokenizer.tokenize(row[text_feature]))\n",
    "    return tokenizeList"
   ]
  },
  {
   "cell_type": "markdown",
   "metadata": {},
   "source": [
    "All the tweets have been tokenized"
   ]
  },
  {
   "cell_type": "code",
   "execution_count": 946,
   "metadata": {},
   "outputs": [
    {
     "data": {
      "text/plain": [
       "16363"
      ]
     },
     "execution_count": 946,
     "metadata": {},
     "output_type": "execute_result"
    }
   ],
   "source": [
    "tweet_tokens = getTokenizeList(df_train,'text',tokenizer)\n",
    "len(tweet_tokens)"
   ]
  },
  {
   "cell_type": "markdown",
   "metadata": {},
   "source": [
    "Remove Stop Words with NLTK"
   ]
  },
  {
   "cell_type": "code",
   "execution_count": 947,
   "metadata": {},
   "outputs": [],
   "source": [
    "stopwords_english = stopwords.words('english')"
   ]
  },
  {
   "cell_type": "code",
   "execution_count": 948,
   "metadata": {},
   "outputs": [],
   "source": [
    "def cleanTweetsOfStopWords(tweet_tokens_list):\n",
    "    for index, tweet_tokens in enumerate(tweet_tokens_list):\n",
    "        clean_token = []\n",
    "        for word in tweet_tokens:\n",
    "            if(word not in stopwords_english and word not in string.punctuation):\n",
    "                clean_token.append(word)\n",
    "        tweet_tokens_list[index] = clean_token\n",
    "    return tweet_tokens_list"
   ]
  },
  {
   "cell_type": "code",
   "execution_count": 949,
   "metadata": {},
   "outputs": [
    {
     "data": {
      "text/plain": [
       "['sooo',\n",
       " 'sad',\n",
       " 'i',\n",
       " 'will',\n",
       " 'miss',\n",
       " 'you',\n",
       " 'here',\n",
       " 'in',\n",
       " 'san',\n",
       " 'diego',\n",
       " '!',\n",
       " '!',\n",
       " '!']"
      ]
     },
     "execution_count": 949,
     "metadata": {},
     "output_type": "execute_result"
    }
   ],
   "source": [
    "tweet_tokens[0]"
   ]
  },
  {
   "cell_type": "markdown",
   "metadata": {},
   "source": [
    "We can see how we have remove stop words from the list"
   ]
  },
  {
   "cell_type": "code",
   "execution_count": 950,
   "metadata": {},
   "outputs": [
    {
     "data": {
      "text/plain": [
       "['sooo', 'sad', 'miss', 'san', 'diego']"
      ]
     },
     "execution_count": 950,
     "metadata": {},
     "output_type": "execute_result"
    }
   ],
   "source": [
    "tweet_clean_tokens = cleanTweetsOfStopWords(tweet_tokens)\n",
    "tweet_clean_tokens[0]"
   ]
  },
  {
   "cell_type": "markdown",
   "metadata": {},
   "source": [
    "Instead of Stemming we are using Lemmatization since it is more accurate, as a trade-off it requires more computing power."
   ]
  },
  {
   "cell_type": "code",
   "execution_count": 951,
   "metadata": {},
   "outputs": [],
   "source": [
    "from nltk.stem import WordNetLemmatizer"
   ]
  },
  {
   "cell_type": "code",
   "execution_count": 952,
   "metadata": {},
   "outputs": [],
   "source": [
    "lemmatizer = WordNetLemmatizer()"
   ]
  },
  {
   "cell_type": "code",
   "execution_count": 953,
   "metadata": {},
   "outputs": [],
   "source": [
    "def getLemmatizeList(tweet_clean_tokens_list,lemmatizer):\n",
    "    for index, tweet_clean_tokens in enumerate(tweet_clean_tokens_list):\n",
    "        tweet_lemm = []\n",
    "        for word in tweet_clean_tokens:\n",
    "            tweet_lemm.append(lemmatizer.lemmatize(word))\n",
    "        tweet_clean_tokens_list[index] = tweet_lemm\n",
    "    return tweet_clean_tokens_list"
   ]
  },
  {
   "cell_type": "code",
   "execution_count": 954,
   "metadata": {},
   "outputs": [],
   "source": [
    "processed_tweets_lemm = getLemmatizeList(tweet_clean_tokens,lemmatizer)"
   ]
  },
  {
   "cell_type": "code",
   "execution_count": 955,
   "metadata": {},
   "outputs": [],
   "source": [
    "def buildFreq(tweets, labels):\n",
    "    labelist = np.squeeze(labels).tolist()\n",
    "    freqs = {}\n",
    "    #zip gives tuples from both of the given input\n",
    "    for label, tweet in zip(labelist, tweets):\n",
    "        for word in tweet:\n",
    "            pair = (word, label)\n",
    "            if pair in freqs:\n",
    "                freqs[pair] += 1\n",
    "            else:\n",
    "                freqs[pair] = 1\n",
    "    return freqs"
   ]
  },
  {
   "cell_type": "code",
   "execution_count": 956,
   "metadata": {},
   "outputs": [
    {
     "data": {
      "text/plain": [
       "{('sooo', 'negative'): 93,\n",
       " ('sad', 'negative'): 397,\n",
       " ('miss', 'negative'): 442,\n",
       " ('san', 'negative'): 8,\n",
       " ('diego', 'negative'): 6,\n",
       " ('bos', 'negative'): 8,\n",
       " ('bullying', 'negative'): 1,\n",
       " ('...', 'negative'): 1628,\n",
       " ('interview', 'negative'): 9,\n",
       " ('leave', 'negative'): 54,\n",
       " ('alone', 'negative'): 35,\n",
       " ('son', 'negative'): 16,\n",
       " ('put', 'negative'): 40,\n",
       " ('release', 'negative'): 5,\n",
       " ('already', 'negative'): 102,\n",
       " ('bought', 'negative'): 13,\n",
       " ('2am', 'positive'): 2,\n",
       " ('feeding', 'positive'): 3,\n",
       " ('baby', 'positive'): 66,\n",
       " ('fun', 'positive'): 348,\n",
       " ('smile', 'positive'): 39,\n",
       " ('coo', 'positive'): 1,\n",
       " ('journey', 'positive'): 8,\n",
       " ('wow', 'positive'): 111,\n",
       " ('...', 'positive'): 1369,\n",
       " ('u', 'positive'): 435,\n",
       " ('became', 'positive'): 4,\n",
       " ('cooler', 'positive'): 4,\n",
       " ('hehe', 'positive'): 37,\n",
       " ('possible', 'positive'): 8,\n",
       " ('really', 'positive'): 309,\n",
       " ('like', 'positive'): 430,\n",
       " ('song', 'positive'): 115,\n",
       " ('love', 'positive'): 946,\n",
       " ('story', 'positive'): 12,\n",
       " ('taylor', 'positive'): 17,\n",
       " ('swift', 'positive'): 7,\n",
       " ('sharpie', 'negative'): 1,\n",
       " ('running', 'negative'): 30,\n",
       " ('dangerously', 'negative'): 1,\n",
       " ('low', 'negative'): 12,\n",
       " ('ink', 'negative'): 1,\n",
       " ('want', 'negative'): 275,\n",
       " ('go', 'negative'): 423,\n",
       " ('music', 'negative'): 35,\n",
       " ('tonight', 'negative'): 133,\n",
       " ('lost', 'negative'): 99,\n",
       " ('voice', 'negative'): 15,\n",
       " ('uh', 'negative'): 4,\n",
       " ('oh', 'negative'): 233,\n",
       " ('sunburned', 'negative'): 6,\n",
       " ('ok', 'negative'): 71,\n",
       " ('trying', 'negative'): 87,\n",
       " ('plot', 'negative'): 2,\n",
       " ('alternative', 'negative'): 2,\n",
       " ('speak', 'negative'): 4,\n",
       " ('sigh', 'negative'): 39,\n",
       " ('sick', 'negative'): 201,\n",
       " ('past', 'negative'): 20,\n",
       " ('day', 'negative'): 423,\n",
       " ('thus', 'negative'): 1,\n",
       " ('hair', 'negative'): 48,\n",
       " ('look', 'negative'): 116,\n",
       " ('wierd', 'negative'): 1,\n",
       " ('didnt', 'negative'): 43,\n",
       " ('hat', 'negative'): 4,\n",
       " ('would', 'negative'): 104,\n",
       " ('back', 'negative'): 243,\n",
       " ('home', 'negative'): 193,\n",
       " ('gonna', 'negative'): 172,\n",
       " ('every', 'negative'): 37,\n",
       " ('one', 'negative'): 309,\n",
       " ('playing', 'positive'): 36,\n",
       " ('ghost', 'positive'): 4,\n",
       " ('online', 'positive'): 16,\n",
       " ('interesting', 'positive'): 47,\n",
       " ('new', 'positive'): 274,\n",
       " ('update', 'positive'): 23,\n",
       " ('kirin', 'positive'): 1,\n",
       " ('pet', 'positive'): 6,\n",
       " ('metamorph', 'positive'): 1,\n",
       " ('third', 'positive'): 8,\n",
       " ('job', 'positive'): 64,\n",
       " ('wait', 'positive'): 142,\n",
       " ('dragon', 'positive'): 2,\n",
       " ('free', 'positive'): 51,\n",
       " ('fillin', 'positive'): 1,\n",
       " ('app', 'positive'): 15,\n",
       " ('ipod', 'positive'): 16,\n",
       " ('im', 'positive'): 187,\n",
       " ('addicted', 'positive'): 7,\n",
       " ('sorry', 'negative'): 351,\n",
       " ('way', 'negative'): 113,\n",
       " ('malaysia', 'negative'): 2,\n",
       " ('internet', 'negative'): 53,\n",
       " ('access', 'negative'): 11,\n",
       " ('twit', 'negative'): 6,\n",
       " ('juss', 'positive'): 4,\n",
       " ('came', 'positive'): 36,\n",
       " ('backk', 'positive'): 1,\n",
       " ('berkeleyy', 'positive'): 1,\n",
       " ('omg', 'positive'): 51,\n",
       " ('madd', 'positive'): 1,\n",
       " ('havent', 'positive'): 13,\n",
       " ('minute', 'positive'): 29,\n",
       " ('whassqoodd', 'positive'): 1,\n",
       " ('went', 'negative'): 60,\n",
       " ('sleep', 'negative'): 155,\n",
       " ('power', 'negative'): 8,\n",
       " ('cut', 'negative'): 27,\n",
       " ('noida', 'negative'): 1,\n",
       " ('working', 'negative'): 95,\n",
       " ('going', 'positive'): 285,\n",
       " ('home', 'positive'): 197,\n",
       " ('seen', 'positive'): 38,\n",
       " ('twitter', 'positive'): 171,\n",
       " ('design', 'positive'): 8,\n",
       " ('quite', 'positive'): 39,\n",
       " ('heavenly', 'positive'): 2,\n",
       " ('hope', 'positive'): 414,\n",
       " ('unni', 'positive'): 2,\n",
       " ('make', 'positive'): 196,\n",
       " ('audition', 'positive'): 3,\n",
       " ('fighting', 'positive'): 5,\n",
       " ('dahye', 'positive'): 1,\n",
       " ('consolation', 'negative'): 1,\n",
       " ('got', 'negative'): 319,\n",
       " ('bmi', 'negative'): 1,\n",
       " ('tested', 'negative'): 2,\n",
       " ('hahaha', 'negative'): 17,\n",
       " ('say', 'negative'): 109,\n",
       " ('obesed', 'negative'): 1,\n",
       " ('well', 'negative'): 180,\n",
       " ('much', 'negative'): 227,\n",
       " ('unhappy', 'negative'): 7,\n",
       " ('10', 'negative'): 30,\n",
       " ('minute', 'negative'): 32,\n",
       " ('funny', 'positive'): 88,\n",
       " ('cute', 'positive'): 108,\n",
       " ('kid', 'positive'): 49,\n",
       " ('born', 'negative'): 4,\n",
       " ('raised', 'negative'): 2,\n",
       " ('nyc', 'negative'): 10,\n",
       " ('living', 'negative'): 19,\n",
       " ('texas', 'negative'): 5,\n",
       " ('year', 'negative'): 88,\n",
       " ('still', 'negative'): 246,\n",
       " ('ny', 'negative'): 8,\n",
       " ('sleeepy', 'negative'): 2,\n",
       " ('last', 'negative'): 168,\n",
       " ('school', 'negative'): 122,\n",
       " ('today', 'negative'): 342,\n",
       " ('sniffle', 'negative'): 3,\n",
       " ('little', 'positive'): 88,\n",
       " ('happy', 'positive'): 858,\n",
       " ('wine', 'positive'): 15,\n",
       " ('jeje', 'positive'): 2,\n",
       " ('ok', 'positive'): 96,\n",
       " ('sm', 'positive'): 1,\n",
       " ('time', 'positive'): 345,\n",
       " ('care', 'positive'): 26,\n",
       " ('jaja', 'positive'): 2,\n",
       " ('day', 'positive'): 1349,\n",
       " ('avid', 'positive'): 1,\n",
       " ('fan', 'positive'): 57,\n",
       " ('magazine', 'positive'): 3,\n",
       " ('available', 'positive'): 5,\n",
       " ('5pm', 'positive'): 2,\n",
       " ('dear', 'positive'): 18,\n",
       " ('would', 'positive'): 205,\n",
       " ('help', 'positive'): 59,\n",
       " ('convert', 'positive'): 3,\n",
       " ('vids', 'positive'): 5,\n",
       " ('ï', 'positive'): 9,\n",
       " ('¿', 'positive'): 49,\n",
       " ('½', 'positive'): 49,\n",
       " ('egh', 'negative'): 1,\n",
       " ('blah', 'negative'): 16,\n",
       " ('booo', 'negative'): 15,\n",
       " ('dunno', 'negative'): 12,\n",
       " ('wanna', 'negative'): 97,\n",
       " ('work', 'negative'): 411,\n",
       " ('hangover', 'negative'): 7,\n",
       " ('suckkk', 'negative'): 2,\n",
       " ('im', 'negative'): 358,\n",
       " ('drunk', 'negative'): 14,\n",
       " ('mess', 'negative'): 15,\n",
       " ('donbt', 'negative'): 1,\n",
       " ('like', 'negative'): 481,\n",
       " ('peel', 'negative'): 1,\n",
       " ('prawn', 'negative'): 1,\n",
       " ('also', 'negative'): 57,\n",
       " ('dont', 'negative'): 132,\n",
       " ('going', 'negative'): 334,\n",
       " ('shopping', 'negative'): 17,\n",
       " ('money', 'negative'): 59,\n",
       " ('crawling', 'negative'): 2,\n",
       " ('round', 'negative'): 7,\n",
       " ('car', 'negative'): 73,\n",
       " ('looking', 'negative'): 42,\n",
       " ('case', 'negative'): 9,\n",
       " ('new', 'negative'): 149,\n",
       " ('week', 'negative'): 147,\n",
       " ('thrilled', 'negative'): 3,\n",
       " ('mine', 'negative'): 40,\n",
       " ('u', 'negative'): 277,\n",
       " ('dissappointed', 'negative'): 1,\n",
       " ('romance', 'positive'): 2,\n",
       " ('zero', 'positive'): 3,\n",
       " ('bah', 'negative'): 11,\n",
       " ('coworker', 'negative'): 3,\n",
       " ('ran', 'negative'): 15,\n",
       " ('late', 'negative'): 65,\n",
       " ('bag', 'negative'): 10,\n",
       " ('smacked', 'negative'): 2,\n",
       " ('knee', 'negative'): 18,\n",
       " ('really', 'negative'): 344,\n",
       " ('hurt', 'negative'): 185,\n",
       " ('aw', 'negative'): 20,\n",
       " ('torn', 'negative'): 4,\n",
       " ('ace', 'negative'): 1,\n",
       " ('heart', 'negative'): 36,\n",
       " ('hunchback', 'negative'): 1,\n",
       " ('friend', 'negative'): 129,\n",
       " ('sleepy', 'negative'): 13,\n",
       " ('..', 'negative'): 517,\n",
       " ('give', 'negative'): 48,\n",
       " ('easily', 'negative'): 1,\n",
       " ('better', 'positive'): 221,\n",
       " ('way', 'positive'): 127,\n",
       " ('spoil', 'positive'): 2,\n",
       " ('mum', 'positive'): 66,\n",
       " ('let', 'positive'): 82,\n",
       " ('kick', 'positive'): 9,\n",
       " ('back', 'positive'): 252,\n",
       " ('relax', 'positive'): 9,\n",
       " ('nice', 'positive'): 339,\n",
       " ('meal', 'positive'): 7,\n",
       " ('bottle', 'positive'): 9,\n",
       " ('favorite', 'positive'): 45,\n",
       " ('red', 'positive'): 15,\n",
       " ('mannn', 'negative'): 2,\n",
       " ('iphone', 'negative'): 22,\n",
       " ('jealous', 'negative'): 37,\n",
       " ('awesome', 'positive'): 279,\n",
       " ('worked', 'positive'): 10,\n",
       " ('good', 'positive'): 1066,\n",
       " ('friend', 'positive'): 165,\n",
       " ('chilliin', 'positive'): 1,\n",
       " ('celtics-lakers', 'positive'): 1,\n",
       " ('rematch', 'positive'): 1,\n",
       " ('sound', 'positive'): 113,\n",
       " ('think', 'positive'): 200,\n",
       " ('lol', 'positive'): 356,\n",
       " ('wow', 'negative'): 37,\n",
       " ('missin', 'negative'): 4,\n",
       " ('fam', 'negative'): 11,\n",
       " ('ily', 'negative'): 2,\n",
       " ('baddd', 'negative'): 2,\n",
       " ('tired', 'negative'): 176,\n",
       " ('thank', 'positive'): 249,\n",
       " ('yyyooouuu', 'positive'): 1,\n",
       " ('lucky', 'positive'): 49,\n",
       " ('wanna', 'positive'): 52,\n",
       " ('see', 'positive'): 276,\n",
       " ('loserville', 'positive'): 1,\n",
       " ('pity', 'positive'): 3,\n",
       " ('oz', 'positive'): 4,\n",
       " ('flu', 'negative'): 27,\n",
       " ('thing', 'negative'): 153,\n",
       " ('reply', 'negative'): 26,\n",
       " ('simfinger', 'negative'): 1,\n",
       " ('problem', 'negative'): 62,\n",
       " ('irape', 'negative'): 1,\n",
       " ('parody', 'negative'): 2,\n",
       " ('video', 'negative'): 18,\n",
       " ('get', 'negative'): 467,\n",
       " ('response', 'negative'): 4,\n",
       " ('guy', 'negative'): 79,\n",
       " ('star', 'positive'): 123,\n",
       " ('war', 'positive'): 75,\n",
       " ('everyone', 'positive'): 146,\n",
       " ('enjoy', 'positive'): 120,\n",
       " ('holiday', 'positive'): 52,\n",
       " ('uk', 'positive'): 16,\n",
       " ('bby', 'negative'): 2,\n",
       " ('wish', 'negative'): 128,\n",
       " ('tomorrow', 'negative'): 120,\n",
       " ('make', 'negative'): 188,\n",
       " ('good', 'negative'): 205,\n",
       " ('well', 'positive'): 258,\n",
       " ('working', 'positive'): 69,\n",
       " ('ready', 'positive'): 64,\n",
       " ('post', 'positive'): 27,\n",
       " ('publicly', 'positive'): 2,\n",
       " ('still', 'positive'): 157,\n",
       " ('beta', 'positive'): 2,\n",
       " ('testing', 'positive'): 3,\n",
       " ('cool', 'positive'): 175,\n",
       " ('script', 'positive'): 5,\n",
       " ('coded', 'positive'): 1,\n",
       " ('sweeet', 'positive'): 3,\n",
       " ('san', 'positive'): 4,\n",
       " ('fran', 'positive'): 1,\n",
       " ('waiting', 'negative'): 46,\n",
       " ('sleeping', 'negative'): 29,\n",
       " ('pill', 'negative'): 7,\n",
       " ('kick', 'negative'): 11,\n",
       " ('mother', 'positive'): 670,\n",
       " ('casey', 'negative'): 1,\n",
       " ('gone', 'negative'): 64,\n",
       " ('piddled', 'negative'): 1,\n",
       " ('little', 'negative'): 88,\n",
       " ('carpet', 'negative'): 2,\n",
       " ('prolly', 'negative'): 3,\n",
       " ('freaked', 'negative'): 3,\n",
       " ('cause', 'negative'): 57,\n",
       " ('hemp', 'negative'): 1,\n",
       " ('cloth', 'negative'): 1,\n",
       " ('marvelous', 'negative'): 1,\n",
       " ('unfortunately', 'negative'): 40,\n",
       " ('saw', 'positive'): 73,\n",
       " ('none', 'positive'): 7,\n",
       " ('3d', 'positive'): 10,\n",
       " ('baddie', 'positive'): 1,\n",
       " ('best', 'positive'): 220,\n",
       " ('4am', 'positive'): 3,\n",
       " ('beach', 'positive'): 24,\n",
       " ('pretty', 'positive'): 125,\n",
       " ('1', 'negative'): 66,\n",
       " ('post', 'negative'): 26,\n",
       " (\"my'horrible\", 'negative'): 1,\n",
       " ('traumatic', 'negative'): 1,\n",
       " ('jumping', 'negative'): 3,\n",
       " ('cholla', 'negative'): 2,\n",
       " ('accident', 'negative'): 12,\n",
       " ('next', 'negative'): 90,\n",
       " ('dirty', 'negative'): 8,\n",
       " ('trick', 'negative'): 1,\n",
       " (':p', 'negative'): 6,\n",
       " ('ieces', 'negative'): 1,\n",
       " ('starting', 'negative'): 36,\n",
       " ('emerge', 'negative'): 1,\n",
       " ('hand', 'negative'): 31,\n",
       " ('ouch', 'negative'): 28,\n",
       " ('realy', 'negative'): 5,\n",
       " ('wanted', 'negative'): 40,\n",
       " ('nice', 'negative'): 29,\n",
       " ('everybodys', 'negative'): 1,\n",
       " ('busy', 'negative'): 28,\n",
       " ('ocean', 'positive'): 8,\n",
       " ('know', 'positive'): 261,\n",
       " ('yourbiggestfan', 'positive'): 1,\n",
       " ('re-al', 'positive'): 1,\n",
       " ('big', 'positive'): 75,\n",
       " ('you-rs', 'positive'): 1,\n",
       " ('haha', 'positive'): 257,\n",
       " ('work', 'positive'): 271,\n",
       " ('blip', 'positive'): 5,\n",
       " ('apart', 'positive'): 2,\n",
       " ('obvious', 'positive'): 2,\n",
       " ('thanks', 'positive'): 564,\n",
       " ('reblipping', 'positive'): 1,\n",
       " ('safe', 'positive'): 25,\n",
       " ('trip', 'positive'): 30,\n",
       " ('joshy', 'positive'): 1,\n",
       " ('poo', 'positive'): 2,\n",
       " ('knock', 'positive'): 1,\n",
       " ('dead', 'positive'): 8,\n",
       " ('speech', 'positive'): 4,\n",
       " ('woof', 'positive'): 1,\n",
       " ('wish', 'positive'): 284,\n",
       " ('allowed', 'positive'): 4,\n",
       " ('go', 'positive'): 316,\n",
       " ('afrin', 'positive'): 1,\n",
       " ('nasal', 'positive'): 1,\n",
       " ('spray', 'positive'): 2,\n",
       " ('also', 'positive'): 68,\n",
       " ('got', 'positive'): 306,\n",
       " ('giant', 'positive'): 4,\n",
       " ('teacup', 'positive'): 1,\n",
       " ('tonight', 'positive'): 171,\n",
       " ('aww', 'positive'): 71,\n",
       " ('daddy', 'positive'): 12,\n",
       " ('7', 'positive'): 20,\n",
       " ('week', 'positive'): 151,\n",
       " ('almost', 'positive'): 41,\n",
       " ('try', 'positive'): 58,\n",
       " ('sf', 'positive'): 3,\n",
       " ('many', 'negative'): 43,\n",
       " ('test', 'negative'): 13,\n",
       " ('todayyy', 'negative'): 4,\n",
       " ('feel', 'negative'): 324,\n",
       " ('confident', 'negative'): 1,\n",
       " ('anyy', 'negative'): 1,\n",
       " ('graduation', 'negative'): 18,\n",
       " ('done', 'negative'): 72,\n",
       " ('anyone', 'negative'): 44,\n",
       " ('hang', 'negative'): 18,\n",
       " ('hahaa', 'positive'): 3,\n",
       " ('awesomee', 'positive'): 2,\n",
       " ('holy', 'positive'): 3,\n",
       " ('smoke', 'positive'): 4,\n",
       " ('trek', 'positive'): 47,\n",
       " ('freaking', 'positive'): 7,\n",
       " ('awesomeee', 'positive'): 2,\n",
       " ('forward', 'negative'): 25,\n",
       " ('math', 'negative'): 16,\n",
       " ('geography', 'negative'): 5,\n",
       " ('english', 'negative'): 17,\n",
       " ('french', 'negative'): 11,\n",
       " ('exam', 'negative'): 45,\n",
       " ('totalling', 'negative'): 1,\n",
       " ('7', 'negative'): 25,\n",
       " ('hour', 'negative'): 121,\n",
       " ('poor', 'negative'): 120,\n",
       " ('outside', 'negative'): 39,\n",
       " ('garden', 'negative'): 15,\n",
       " ('sun', 'negative'): 48,\n",
       " ('forget', 'negative'): 22,\n",
       " ('suncream', 'negative'): 1,\n",
       " ('prob', 'positive'): 8,\n",
       " ('hun', 'positive'): 21,\n",
       " ('hey', 'positive'): 116,\n",
       " ('mia', 'positive'): 2,\n",
       " ('totally', 'positive'): 40,\n",
       " ('adore', 'positive'): 6,\n",
       " ('music', 'positive'): 69,\n",
       " ('cd', 'positive'): 16,\n",
       " ('shopping', 'positive'): 35,\n",
       " ('cleaning', 'positive'): 10,\n",
       " ('bmfing', 'positive'): 1,\n",
       " ('webcam', 'positive'): 1,\n",
       " ('chatting', 'positive'): 4,\n",
       " ('nephew', 'positive'): 2,\n",
       " ('nothing', 'positive'): 41,\n",
       " ('spesh', 'positive'): 1,\n",
       " ('bank', 'positive'): 38,\n",
       " ('monday', 'positive'): 88,\n",
       " ('nonetheless', 'positive'): 1,\n",
       " ('need', 'positive'): 138,\n",
       " ('ask', 'positive'): 19,\n",
       " ('something', 'positive'): 69,\n",
       " ('lmao', 'positive'): 29,\n",
       " ('splinter', 'negative'): 1,\n",
       " ('painful', 'negative'): 14,\n",
       " ('heroic', 'negative'): 1,\n",
       " ('saving', 'negative'): 4,\n",
       " ('mr', 'negative'): 24,\n",
       " ('pickle', 'negative'): 1,\n",
       " ('tweeting', 'positive'): 14,\n",
       " ('sunday', 'positive'): 65,\n",
       " ('10th', 'positive'): 5,\n",
       " ('may', 'positive'): 110,\n",
       " ('celebrating', 'positive'): 11,\n",
       " ('today', 'positive'): 360,\n",
       " ('yer', 'positive'): 4,\n",
       " ('mom', 'positive'): 276,\n",
       " ('decided', 'positive'): 13,\n",
       " ('2', 'positive'): 178,\n",
       " ('trans', 'positive'): 1,\n",
       " ('frm', 'positive'): 3,\n",
       " ('relaxed', 'positive'): 3,\n",
       " ('natural', 'positive'): 1,\n",
       " ('hair', 'positive'): 35,\n",
       " ('whole', 'positive'): 25,\n",
       " ('head', 'positive'): 34,\n",
       " ('looked', 'positive'): 19,\n",
       " ('root', 'positive'): 2,\n",
       " ('age', 'positive'): 13,\n",
       " ('instant', 'positive'): 1,\n",
       " ('gratification', 'positive'): 1,\n",
       " ('missed', 'negative'): 121,\n",
       " ('awesome', 'negative'): 6,\n",
       " ('weather', 'negative'): 57,\n",
       " ('movie', 'negative'): 63,\n",
       " ('kid', 'negative'): 52,\n",
       " ('terrible', 'negative'): 21,\n",
       " ('evans', 'negative'): 2,\n",
       " ('call', 'negative'): 51,\n",
       " ('childline', 'negative'): 1,\n",
       " ('unfortunatley', 'negative'): 2,\n",
       " ('aerlingus', 'negative'): 1,\n",
       " ('longer', 'negative'): 22,\n",
       " ('fly', 'negative'): 12,\n",
       " ('copenhagen', 'negative'): 3,\n",
       " ('ryanair', 'negative'): 1,\n",
       " ('billund', 'negative'): 1,\n",
       " ('drive', 'negative'): 29,\n",
       " ('actually', 'negative'): 40,\n",
       " ('google', 'negative'): 7,\n",
       " ('term', 'negative'): 5,\n",
       " ('suck', 'negative'): 231,\n",
       " ('tho', 'negative'): 27,\n",
       " ('hate', 'negative'): 298,\n",
       " ('fighting', 'negative'): 9,\n",
       " ('car-warmed', 'negative'): 1,\n",
       " ('sprite', 'negative'): 1,\n",
       " ('taste', 'negative'): 9,\n",
       " ('sore', 'negative'): 46,\n",
       " ('throat', 'negative'): 33,\n",
       " ('candle', 'positive'): 1,\n",
       " ('wax', 'positive'): 1,\n",
       " ('enjoyable', 'positive'): 3,\n",
       " ('unassuming', 'positive'): 1,\n",
       " ('unpretentious', 'positive'): 1,\n",
       " ('suppose', 'positive'): 6,\n",
       " ('endearing--because', 'positive'): 1,\n",
       " ('relate', 'positive'): 3,\n",
       " ('goooddd', 'positive'): 2,\n",
       " ('morning', 'positive'): 298,\n",
       " ('tweet', 'positive'): 89,\n",
       " ('three', 'positive'): 18,\n",
       " ('workout', 'positive'): 8,\n",
       " ('mention', 'positive'): 8,\n",
       " ('glass', 'positive'): 8,\n",
       " ('yesterday', 'positive'): 61,\n",
       " ('computer', 'negative'): 41,\n",
       " ('fine', 'positive'): 37,\n",
       " ('walk', 'positive'): 19,\n",
       " ('20', 'positive'): 12,\n",
       " ('mile', 'positive'): 13,\n",
       " ('red', 'negative'): 21,\n",
       " ('cruiser', 'negative'): 1,\n",
       " ('lmfao', 'negative'): 2,\n",
       " ('bugger', 'negative'): 6,\n",
       " ('forgot', 'negative'): 43,\n",
       " ('washing', 'negative'): 8,\n",
       " ('machine', 'negative'): 9,\n",
       " ('_laurie', 'positive'): 2,\n",
       " ('sending', 'positive'): 9,\n",
       " ('blessing', 'positive'): 8,\n",
       " ('healing', 'positive'): 1,\n",
       " ('thought', 'positive'): 54,\n",
       " ('family', 'positive'): 75,\n",
       " ('peace', 'positive'): 11,\n",
       " ('bad', 'negative'): 308,\n",
       " ('modem', 'negative'): 4,\n",
       " ('offline', 'negative'): 3,\n",
       " ('god', 'negative'): 41,\n",
       " ('bless', 'negative'): 4,\n",
       " ('3g', 'negative'): 3,\n",
       " ('network', 'negative'): 6,\n",
       " ('tim', 'negative'): 4,\n",
       " ('left', 'negative'): 78,\n",
       " ('may', 'negative'): 57,\n",
       " ('schedule', 'negative'): 5,\n",
       " ('brutal', 'negative'): 1,\n",
       " ('parent', 'negative'): 19,\n",
       " ('teacher', 'negative'): 9,\n",
       " ('yesterday', 'negative'): 46,\n",
       " ('boring', 'negative'): 54,\n",
       " ('skl', 'negative'): 2,\n",
       " ('saturday', 'negative'): 33,\n",
       " ('lol', 'negative'): 166,\n",
       " ('lichfield', 'positive'): 1,\n",
       " ('tweetup', 'positive'): 3,\n",
       " ('else', 'positive'): 24,\n",
       " ('bevvies', 'positive'): 1,\n",
       " ('2day', 'positive'): 9,\n",
       " ('twn', 'positive'): 1,\n",
       " ('..', 'positive'): 507,\n",
       " ('great', 'positive'): 482,\n",
       " ('first', 'positive'): 79,\n",
       " ('night', 'positive'): 346,\n",
       " ('myers', 'positive'): 1,\n",
       " ('w', 'positive'): 48,\n",
       " ('lydia', 'positive'): 2,\n",
       " ('actually', 'positive'): 56,\n",
       " ('excited', 'positive'): 115,\n",
       " ('summer', 'positive'): 40,\n",
       " ('show', 'positive'): 131,\n",
       " ('ever', 'positive'): 107,\n",
       " ('url', 'negative'): 4,\n",
       " ('previous', 'negative'): 4,\n",
       " ('timer', 'negative'): 1,\n",
       " ('job', 'negative'): 62,\n",
       " ('removed', 'negative'): 1,\n",
       " ('space', 'negative'): 10,\n",
       " ('messed', 'negative'): 18,\n",
       " ('e', 'negative'): 10,\n",
       " ('even', 'negative'): 125,\n",
       " ('nooo', 'negative'): 42,\n",
       " ('secret', 'negative'): 4,\n",
       " ('namerebecca', 'negative'): 1,\n",
       " ('please', 'negative'): 55,\n",
       " ('neice', 'negative'): 1,\n",
       " ('wait', 'negative'): 58,\n",
       " ('see', 'negative'): 179,\n",
       " ('n', 'negative'): 62,\n",
       " ('grown', 'negative'): 4,\n",
       " ('hope', 'negative'): 56,\n",
       " ('illness', 'negative'): 2,\n",
       " ('terminal', 'negative'): 1,\n",
       " ('watched', 'positive'): 42,\n",
       " ('x-men', 'positive'): 9,\n",
       " ('origin', 'positive'): 4,\n",
       " ('wolverine', 'positive'): 11,\n",
       " ('loved', 'positive'): 77,\n",
       " ('voted', 'positive'): 8,\n",
       " ('personal', 'positive'): 3,\n",
       " ('myspace', 'positive'): 9,\n",
       " ('keep', 'positive'): 64,\n",
       " ('talking', 'positive'): 20,\n",
       " ('fake', 'positive'): 6,\n",
       " ('<3', 'positive'): 149,\n",
       " ('helped', 'positive'): 4,\n",
       " ('thru', 'positive'): 2,\n",
       " ('hrdest', 'positive'): 1,\n",
       " ('life', 'positive'): 96,\n",
       " ('(:', 'positive'): 21,\n",
       " ('x', 'positive'): 78,\n",
       " ('night', 'negative'): 167,\n",
       " ('high', 'negative'): 32,\n",
       " ('ended', 'negative'): 10,\n",
       " ('stupid', 'negative'): 111,\n",
       " ('dead', 'negative'): 44,\n",
       " ('rat', 'negative'): 6,\n",
       " ('tooth', 'negative'): 7,\n",
       " ('2day', 'negative'): 12,\n",
       " ('whilst', 'negative'): 2,\n",
       " ('eating', 'negative'): 24,\n",
       " ('gum', 'negative'): 5,\n",
       " ('oww', 'negative'): 3,\n",
       " ('1', 'positive'): 67,\n",
       " ('year', 'positive'): 96,\n",
       " ('oh', 'positive'): 208,\n",
       " ('hella', 'positive'): 7,\n",
       " ('forgot', 'positive'): 20,\n",
       " ('say', 'positive'): 140,\n",
       " ('official', 'positive'): 3,\n",
       " ('hear', 'positive'): 53,\n",
       " ('goood', 'positive'): 20,\n",
       " ('morrrning', 'positive'): 3,\n",
       " ('twitterville', 'positive'): 4,\n",
       " ('vote', 'negative'): 25,\n",
       " ('starving', 'negative'): 10,\n",
       " ('diet', 'negative'): 6,\n",
       " ('killing', 'negative'): 20,\n",
       " ('eat', 'negative'): 47,\n",
       " ('8p', 'negative'): 1,\n",
       " ('soo', 'negative'): 34,\n",
       " ('bored', 'negative'): 142,\n",
       " ('deffo', 'negative'): 1,\n",
       " ('missing', 'negative'): 105,\n",
       " ('channel', 'negative'): 5,\n",
       " ('nite', 'positive'): 30,\n",
       " ('bday', 'positive'): 21,\n",
       " ('girl', 'positive'): 114,\n",
       " ('concert', 'positive'): 33,\n",
       " ('couple', 'negative'): 14,\n",
       " ('ago', 'negative'): 34,\n",
       " ('parked', 'negative'): 2,\n",
       " ('hit', 'negative'): 41,\n",
       " ('creeper', 'negative'): 2,\n",
       " ('disappointed', 'negative'): 21,\n",
       " ('cyberstalking', 'negative'): 1,\n",
       " ('skill', 'negative'): 5,\n",
       " ('privacy', 'negative'): 2,\n",
       " ('bed', 'negative'): 103,\n",
       " ('headache', 'negative'): 88,\n",
       " ('thinking', 'positive'): 40,\n",
       " ('maybe', 'positive'): 54,\n",
       " ('change', 'positive'): 16,\n",
       " ('coming', 'positive'): 56,\n",
       " ('cant', 'positive'): 53,\n",
       " ('handle', 'positive'): 3,\n",
       " ('fame', 'positive'): 1,\n",
       " ('yes', 'positive'): 125,\n",
       " ('sober', 'positive'): 4,\n",
       " ('hahaha', 'positive'): 54,\n",
       " ('tanghaling', 'positive'): 1,\n",
       " ('tapat', 'positive'): 1,\n",
       " ('dude', 'positive'): 30,\n",
       " ('wild', 'positive'): 6,\n",
       " ('knowww', 'positive'): 2,\n",
       " ('plan', 'positive'): 26,\n",
       " ('never', 'positive'): 63,\n",
       " ('miss', 'positive'): 50,\n",
       " ('icarly', 'positive'): 4,\n",
       " ('son', 'positive'): 23,\n",
       " ('huge', 'positive'): 14,\n",
       " ('crush', 'positive'): 7,\n",
       " ('miranda', 'positive'): 1,\n",
       " ('feeling', 'positive'): 69,\n",
       " ('smooth', 'positive'): 3,\n",
       " ('chrome', 'positive'): 2,\n",
       " ('ew', 'negative'): 7,\n",
       " ('traffic', 'negative'): 23,\n",
       " ('walking', 'negative'): 10,\n",
       " ('class', 'negative'): 57,\n",
       " ('bike', 'negative'): 13,\n",
       " ('especially', 'negative'): 18,\n",
       " ('failed', 'negative'): 23,\n",
       " ('inspection', 'negative'): 1,\n",
       " ('know', 'negative'): 276,\n",
       " ('pas', 'negative'): 13,\n",
       " ('wo', 'negative'): 2,\n",
       " ('oven', 'negative'): 3,\n",
       " ('anti-tip', 'negative'): 1,\n",
       " ('bracket', 'negative'): 2,\n",
       " ('sold', 'negative'): 16,\n",
       " ('w', 'negative'): 47,\n",
       " ('worse', 'negative'): 35,\n",
       " ('tax', 'negative'): 7,\n",
       " ('jonas', 'positive'): 24,\n",
       " ('brother', 'positive'): 35,\n",
       " ('live', 'positive'): 70,\n",
       " ('party', 'positive'): 64,\n",
       " ('rocking', 'positive'): 8,\n",
       " ('hard', 'positive'): 28,\n",
       " ('world', 'positive'): 92,\n",
       " ('35mins', 'positive'): 1,\n",
       " ('1hr', 'positive'): 2,\n",
       " ('20mins', 'positive'): 1,\n",
       " ('google', 'positive'): 17,\n",
       " ('wave', 'positive'): 10,\n",
       " ('demo', 'positive'): 4,\n",
       " ('look', 'positive'): 185,\n",
       " ('lot', 'positive'): 99,\n",
       " ('test', 'positive'): 20,\n",
       " ('though', 'positive'): 153,\n",
       " ('sleepy', 'positive'): 13,\n",
       " ('tabz', 'positive'): 1,\n",
       " ('heading', 'positive'): 24,\n",
       " ('bed', 'positive'): 124,\n",
       " ('listened', 'positive'): 5,\n",
       " ('next', 'positive'): 104,\n",
       " ('episode', 'positive'): 30,\n",
       " ('joss', 'positive'): 2,\n",
       " ('screw', 'positive'): 3,\n",
       " ('review', 'positive'): 16,\n",
       " ('enough', 'positive'): 21,\n",
       " ('dominic', 'positive'): 1,\n",
       " ('monaghan', 'positive'): 1,\n",
       " ('liking', 'positive'): 10,\n",
       " ('followed', 'positive'): 17,\n",
       " ('recently', 'positive'): 4,\n",
       " ('please', 'positive'): 97,\n",
       " ('dont', 'positive'): 66,\n",
       " ('offended', 'positive'): 2,\n",
       " ('hit', 'positive'): 26,\n",
       " ('limit', 'positive'): 2,\n",
       " ('hopefully', 'positive'): 68,\n",
       " ('soon', 'positive'): 120,\n",
       " ('tavares', 'positive'): 1,\n",
       " ('blessed', 'positive'): 17,\n",
       " ('luv', 'positive'): 34,\n",
       " ('represent', 'positive'): 2,\n",
       " ('blackberry', 'positive'): 9,\n",
       " ('yeah', 'positive'): 113,\n",
       " ('ahaha', 'positive'): 7,\n",
       " ('accepts', 'negative'): 1,\n",
       " ('appology', 'negative'): 1,\n",
       " ('wolverine', 'negative'): 2,\n",
       " ('seriously', 'negative'): 34,\n",
       " ('will.i.am', 'negative'): 1,\n",
       " ('died', 'positive'): 3,\n",
       " ('laptop', 'positive'): 18,\n",
       " ('screen', 'positive'): 8,\n",
       " ('set', 'positive'): 21,\n",
       " ('100', 'positive'): 13,\n",
       " ('brightness', 'positive'): 1,\n",
       " ('reinstalled', 'positive'): 1,\n",
       " ('window', 'positive'): 13,\n",
       " ('vista', 'positive'): 4,\n",
       " ('headache', 'positive'): 5,\n",
       " ('insanedefaults', 'positive'): 1,\n",
       " ('decide', 'negative'): 5,\n",
       " ('bible', 'negative'): 2,\n",
       " ('study', 'negative'): 17,\n",
       " ('2nite', 'negative'): 7,\n",
       " ('mean', 'negative'): 77,\n",
       " ('cake', 'negative'): 6,\n",
       " ('buy', 'negative'): 38,\n",
       " ('discovered', 'positive'): 3,\n",
       " ('cause', 'positive'): 34,\n",
       " ('bug', 'positive'): 9,\n",
       " ('netplayer', 'positive'): 1,\n",
       " ('4', 'positive'): 84,\n",
       " ('build', 'positive'): 1,\n",
       " ('publishing', 'positive'): 1,\n",
       " ('fix', 'positive'): 10,\n",
       " ('tomorrow', 'positive'): 168,\n",
       " ('yes', 'negative'): 47,\n",
       " ('die', 'negative'): 28,\n",
       " ('cry', 'negative'): 104,\n",
       " ('normally', 'negative'): 4,\n",
       " ('lead', 'negative'): 7,\n",
       " ('small', 'negative'): 13,\n",
       " ('animal', 'negative'): 10,\n",
       " ('getting', 'negative'): 146,\n",
       " ('harmed', 'negative'): 1,\n",
       " ('writing', 'positive'): 22,\n",
       " ('report', 'positive'): 9,\n",
       " ('card', 'positive'): 23,\n",
       " ('sooo', 'positive'): 94,\n",
       " ('tired', 'positive'): 20,\n",
       " ('amazing', 'positive'): 172,\n",
       " ('check', 'positive'): 52,\n",
       " ('fb', 'positive'): 20,\n",
       " ('wonderful', 'positive'): 73,\n",
       " ('neighborhood', 'positive'): 2,\n",
       " ('following', 'positive'): 41,\n",
       " ('another', 'positive'): 71,\n",
       " ('60', 'positive'): 9,\n",
       " ('ftsk', 'positive'): 1,\n",
       " ('mercy', 'positive'): 1,\n",
       " ('mercedes', 'positive'): 1,\n",
       " ('always', 'positive'): 84,\n",
       " ('school', 'positive'): 86,\n",
       " ('done', 'positive'): 84,\n",
       " ('already', 'positive'): 58,\n",
       " ('hurt', 'positive'): 10,\n",
       " ('much', 'positive'): 253,\n",
       " ('seeing', 'positive'): 35,\n",
       " ('every', 'positive'): 34,\n",
       " ('went', 'positive'): 65,\n",
       " ('last', 'positive'): 163,\n",
       " ('dindin', 'positive'): 1,\n",
       " ('showed', 'positive'): 1,\n",
       " ('matching', 'positive'): 2,\n",
       " ('outfit', 'positive'): 4,\n",
       " ('mind', 'positive'): 25,\n",
       " ('alike', 'positive'): 2,\n",
       " ('anyway', 'positive'): 26,\n",
       " ('birthday', 'positive'): 105,\n",
       " ('ate', 'positive'): 12,\n",
       " ('lara', 'positive'): 2,\n",
       " ('b-day', 'positive'): 9,\n",
       " ('woke', 'positive'): 26,\n",
       " ('side', 'positive'): 15,\n",
       " ('earth', 'positive'): 12,\n",
       " ('bit', 'positive'): 44,\n",
       " ('late', 'positive'): 32,\n",
       " ('teaching', 'positive'): 8,\n",
       " ('value', 'positive'): 2,\n",
       " ('person', 'positive'): 23,\n",
       " ('laugh', 'positive'): 18,\n",
       " ('glad', 'positive'): 128,\n",
       " ('self', 'positive'): 9,\n",
       " ('confidence', 'positive'): 1,\n",
       " ('trait', 'positive'): 1,\n",
       " ('applaud', 'positive'): 1,\n",
       " ('extra', 'positive'): 12,\n",
       " ('loud', 'positive'): 7,\n",
       " ('okay', 'positive'): 46,\n",
       " ('getting', 'positive'): 86,\n",
       " ('stuck', 'positive'): 16,\n",
       " ('inside', 'positive'): 17,\n",
       " ('tres', 'negative'): 1,\n",
       " ('depressed', 'negative'): 17,\n",
       " ('felt', 'negative'): 17,\n",
       " ('behaved', 'negative'): 1,\n",
       " ('ate', 'negative'): 17,\n",
       " ('compensate', 'negative'): 1,\n",
       " ('pigged', 'negative'): 1,\n",
       " ('home-roasted', 'negative'): 1,\n",
       " ('sugar', 'negative'): 8,\n",
       " ('almond', 'negative'): 2,\n",
       " ('tum', 'negative'): 3,\n",
       " ('threw', 'negative'): 4,\n",
       " ('people', 'positive'): 103,\n",
       " ('hear', 'negative'): 65,\n",
       " ('yay', 'positive'): 139,\n",
       " ('surprise', 'positive'): 19,\n",
       " ('celebrity', 'positive'): 4,\n",
       " ('meet', 'positive'): 40,\n",
       " ('ago', 'positive'): 24,\n",
       " ('friendly', 'positive'): 7,\n",
       " ('talk', 'positive'): 44,\n",
       " ('nba', 'positive'): 4,\n",
       " ('could', 'positive'): 150,\n",
       " ('give', 'positive'): 57,\n",
       " ('nugget', 'positive'): 2,\n",
       " ('neck', 'negative'): 14,\n",
       " ('jacked', 'negative'): 2,\n",
       " ('forced', 'negative'): 8,\n",
       " ('pay', 'negative'): 13,\n",
       " ('parking', 'negative'): 9,\n",
       " ('bc', 'negative'): 14,\n",
       " ('turn', 'negative'): 24,\n",
       " ('head', 'negative'): 73,\n",
       " ('parallel', 'negative'): 1,\n",
       " ('park', 'negative'): 13,\n",
       " ('free', 'negative'): 22,\n",
       " ('roomie', 'negative'): 1,\n",
       " ('roomy', 'negative'): 2,\n",
       " ('yep', 'negative'): 15,\n",
       " ('finished', 'negative'): 28,\n",
       " ('chocked', 'negative'): 1,\n",
       " ('full', 'negative'): 26,\n",
       " ('spelling', 'negative'): 3,\n",
       " ('grammatical', 'negative'): 1,\n",
       " ('error', 'negative'): 9,\n",
       " ('cleaning', 'negative'): 16,\n",
       " ('popping', 'negative'): 3,\n",
       " ('hehe', 'negative'): 7,\n",
       " ('watching', 'positive'): 109,\n",
       " ('ellen', 'positive'): 5,\n",
       " ('dish', 'positive'): 7,\n",
       " ('tanning', 'positive'): 3,\n",
       " ('gorgeous', 'positive'): 25,\n",
       " ('goin', 'negative'): 17,\n",
       " ('hun', 'negative'): 10,\n",
       " ('worried', 'negative'): 22,\n",
       " ('bannished', 'negative'): 1,\n",
       " ('till', 'negative'): 49,\n",
       " ('6', 'negative'): 23,\n",
       " ('minus', 'positive'): 2,\n",
       " ('vita', 'positive'): 1,\n",
       " ('play', 'positive'): 46,\n",
       " ('break', 'positive'): 29,\n",
       " ('virginity', 'positive'): 2,\n",
       " ('two', 'positive'): 73,\n",
       " ('dinner', 'negative'): 15,\n",
       " ('worth', 'positive'): 31,\n",
       " ('shot', 'positive'): 10,\n",
       " ('opened', 'positive'): 1,\n",
       " ('facebook', 'positive'): 16,\n",
       " ('account', 'positive'): 15,\n",
       " ('confused', 'positive'): 2,\n",
       " ('get', 'positive'): 392,\n",
       " ('seems', 'positive'): 18,\n",
       " ('ship', 'negative'): 2,\n",
       " ('stuck', 'negative'): 56,\n",
       " ('dustbin', 'positive'): 2,\n",
       " ('11.30', 'positive'): 1,\n",
       " ('cannot', 'positive'): 11,\n",
       " ('dwell', 'negative'): 1,\n",
       " ('happened', 'negative'): 31,\n",
       " ('passed', 'negative'): 10,\n",
       " ('shame', 'negative'): 26,\n",
       " ('supportive', 'negative'): 1,\n",
       " ('life', 'negative'): 102,\n",
       " ('x', 'negative'): 46,\n",
       " ('laying', 'negative'): 8,\n",
       " ('til', 'negative'): 29,\n",
       " ('workkk', 'negative'): 2,\n",
       " ('definitely', 'negative'): 19,\n",
       " ('pinched', 'negative'): 2,\n",
       " ('nerve', 'negative'): 4,\n",
       " ('exhausting', 'negative'): 2,\n",
       " ('ur', 'negative'): 44,\n",
       " ('flight', 'negative'): 13,\n",
       " ('cancelled', 'negative'): 16,\n",
       " ('blow', 'negative'): 8,\n",
       " ('ohh', 'negative'): 15,\n",
       " ('distracted', 'positive'): 2,\n",
       " ('follower', 'positive'): 56,\n",
       " ('taking', 'positive'): 31,\n",
       " ('trouble', 'positive'): 5,\n",
       " ('follow', 'positive'): 78,\n",
       " ('others', 'positive'): 12,\n",
       " ('feelin', 'positive'): 8,\n",
       " ('think', 'negative'): 244,\n",
       " ('bill', 'negative'): 8,\n",
       " ('ha', 'negative'): 21,\n",
       " ('ii', 'negative'): 6,\n",
       " ('paying', 'negative'): 7,\n",
       " ('broke', 'negative'): 55,\n",
       " ('mcfly', 'positive'): 11,\n",
       " ('gig', 'positive'): 10,\n",
       " ('nightt', 'positive'): 1,\n",
       " ('amazin', 'positive'): 2,\n",
       " ('didnt', 'positive'): 18,\n",
       " ('sit', 'positive'): 3,\n",
       " ('thing', 'positive'): 152,\n",
       " ('mate', 'positive'): 14,\n",
       " ('tutu', 'positive'): 1,\n",
       " ('2', 'negative'): 204,\n",
       " ('without', 'negative'): 66,\n",
       " ('migraine', 'negative'): 14,\n",
       " ('thought', 'negative'): 80,\n",
       " ('postr', 'negative'): 1,\n",
       " ('01', 'negative'): 2,\n",
       " ('meant', 'negative'): 19,\n",
       " ('relaxing', 'negative'): 6,\n",
       " ('wide', 'positive'): 5,\n",
       " ('awake', 'positive'): 18,\n",
       " ('daddy', 'negative'): 12,\n",
       " ('mommy', 'negative'): 13,\n",
       " ('dog', 'negative'): 52,\n",
       " ('officially', 'negative'): 16,\n",
       " ('brother', 'negative'): 20,\n",
       " ('play', 'negative'): 42,\n",
       " ('half-heartedly', 'negative'): 1,\n",
       " ('frist', 'positive'): 1,\n",
       " ('find', 'positive'): 47,\n",
       " ('car', 'positive'): 31,\n",
       " ('parent', 'positive'): 10,\n",
       " ('exciting', 'positive'): 27,\n",
       " ('argh', 'negative'): 13,\n",
       " ('noo', 'negative'): 8,\n",
       " ('killer', 'negative'): 4,\n",
       " ('wossy', 'negative'): 1,\n",
       " ('brandon', 'negative'): 3,\n",
       " ('total', 'negative'): 3,\n",
       " ('failure', 'negative'): 3,\n",
       " ('repeated', 'negative'): 2,\n",
       " ...}"
      ]
     },
     "execution_count": 956,
     "metadata": {},
     "output_type": "execute_result"
    }
   ],
   "source": [
    "freqs = buildFreq(processed_tweets_lemm,df_train_labels)\n",
    "freqs"
   ]
  },
  {
   "cell_type": "code",
   "execution_count": 957,
   "metadata": {},
   "outputs": [],
   "source": [
    "def sigmoid(z):\n",
    "    h = 1/(1+np.exp(-z))\n",
    "    return h"
   ]
  },
  {
   "cell_type": "code",
   "execution_count": 958,
   "metadata": {},
   "outputs": [],
   "source": [
    "def gradientDescent(x, y, theta, alpha, num_iters):\n",
    "    m = x.shape[0]\n",
    "\n",
    "    for i in range(0, num_iters):\n",
    "        z = np.dot(x,theta)\n",
    "        h = sigmoid(z)\n",
    "\n",
    "        J = float(-1)/float(m) *(np.dot(y.transpose(),np.log(h)) + np.dot((1-y).transpose(),np.log(1-h)))\n",
    "        theta = theta - (alpha/m)* np.dot(x.transpose(),(h-y))\n",
    "        \n",
    "    J = float(J)\n",
    "    return J, theta"
   ]
  },
  {
   "cell_type": "code",
   "execution_count": 959,
   "metadata": {},
   "outputs": [],
   "source": [
    "def extract_features(tweetL, freqs):\n",
    "    x = np.zeros(3)\n",
    "\n",
    "    x[0] = 1 #bias\n",
    "    for word in tweetL:\n",
    "        pkey = (word, \"positive\")\n",
    "        nkey = (word, \"negative\")\n",
    "\n",
    "        x[1] += freqs.get(pkey,0)\n",
    "        x[2] += freqs.get(nkey,0)\n",
    "\n",
    "    x = x[None, :]\n",
    "    assert(x.shape == (1,3)) #tests if this shape is correct\n",
    "    return x\n",
    "        "
   ]
  },
  {
   "cell_type": "code",
   "execution_count": 960,
   "metadata": {},
   "outputs": [
    {
     "data": {
      "text/plain": [
       "array([[  1., 154., 946.]])"
      ]
     },
     "execution_count": 960,
     "metadata": {},
     "output_type": "execute_result"
    }
   ],
   "source": [
    "extract_features(processed_tweets_lemm[0],freqs=freqs)"
   ]
  },
  {
   "cell_type": "code",
   "execution_count": 961,
   "metadata": {},
   "outputs": [
    {
     "data": {
      "text/plain": [
       "array([[1.000e+00, 1.540e+02, 9.460e+02],\n",
       "       [1.000e+00, 1.374e+03, 1.637e+03],\n",
       "       [1.000e+00, 6.600e+01, 9.800e+01],\n",
       "       ...,\n",
       "       [1.000e+00, 4.010e+02, 2.380e+02],\n",
       "       [1.000e+00, 1.825e+03, 7.170e+02],\n",
       "       [1.000e+00, 3.100e+01, 1.100e+01]])"
      ]
     },
     "execution_count": 961,
     "metadata": {},
     "output_type": "execute_result"
    }
   ],
   "source": [
    "feature_list = np.zeros((len(df_train_features),3))\n",
    "\n",
    "for index, each_tweet_list in enumerate(processed_tweets_lemm):\n",
    "    feature_list[index,:] = extract_features(processed_tweets_lemm[index],freqs=freqs)\n",
    "feature_list"
   ]
  },
  {
   "cell_type": "markdown",
   "metadata": {},
   "source": [
    "<h1>Train the Model</h1>"
   ]
  },
  {
   "cell_type": "code",
   "execution_count": 962,
   "metadata": {},
   "outputs": [
    {
     "data": {
      "text/plain": [
       "(16363, 3)"
      ]
     },
     "execution_count": 962,
     "metadata": {},
     "output_type": "execute_result"
    }
   ],
   "source": [
    "feature_list.shape"
   ]
  },
  {
   "cell_type": "code",
   "execution_count": 963,
   "metadata": {},
   "outputs": [
    {
     "data": {
      "text/plain": [
       "(16363,)"
      ]
     },
     "execution_count": 963,
     "metadata": {},
     "output_type": "execute_result"
    }
   ],
   "source": [
    "df_train_labels.shape"
   ]
  },
  {
   "cell_type": "code",
   "execution_count": 964,
   "metadata": {},
   "outputs": [
    {
     "data": {
      "text/plain": [
       "(16363,)"
      ]
     },
     "execution_count": 964,
     "metadata": {},
     "output_type": "execute_result"
    }
   ],
   "source": [
    "df_train_labels = df_train_labels.replace([\"positive\",\"negative\"], [1,0])\n",
    "df_train_labels.shape"
   ]
  },
  {
   "cell_type": "code",
   "execution_count": 965,
   "metadata": {},
   "outputs": [
    {
     "data": {
      "text/plain": [
       "(16363, 1)"
      ]
     },
     "execution_count": 965,
     "metadata": {},
     "output_type": "execute_result"
    }
   ],
   "source": [
    "df_train_labels = df_train_labels.values.reshape(16363,1)\n",
    "type(df_train_labels)\n",
    "df_train_labels.shape"
   ]
  },
  {
   "cell_type": "code",
   "execution_count": 966,
   "metadata": {},
   "outputs": [],
   "source": [
    "df_train_feature_list = feature_list"
   ]
  },
  {
   "cell_type": "code",
   "execution_count": 967,
   "metadata": {},
   "outputs": [
    {
     "name": "stderr",
     "output_type": "stream",
     "text": [
      "/var/folders/vr/tkgzg_8x337_02z1l556m4n80000gn/T/ipykernel_37161/1529344173.py:11: DeprecationWarning: Conversion of an array with ndim > 0 to a scalar is deprecated, and will error in future. Ensure you extract a single element from your array before performing this operation. (Deprecated NumPy 1.25.)\n",
      "  J = float(J)\n"
     ]
    }
   ],
   "source": [
    "J, theta = gradientDescent(feature_list,df_train_labels, np.zeros((3,1)),1e-9,20000)"
   ]
  },
  {
   "cell_type": "markdown",
   "metadata": {},
   "source": [
    "Had to change the series of the labels into an nparray of 1d"
   ]
  },
  {
   "cell_type": "code",
   "execution_count": 968,
   "metadata": {},
   "outputs": [
    {
     "name": "stdout",
     "output_type": "stream",
     "text": [
      "The cost after training is 0.55906374.\n",
      "The resulting vector of weights is [-3.9e-07, 0.00106445, -0.00112081]\n"
     ]
    }
   ],
   "source": [
    "print(f\"The cost after training is {J:.8f}.\")\n",
    "print(f\"The resulting vector of weights is {[round(t,8) for t in np.squeeze(theta)]}\")"
   ]
  },
  {
   "cell_type": "markdown",
   "metadata": {},
   "source": [
    "<h1>Testing</h1>"
   ]
  },
  {
   "cell_type": "code",
   "execution_count": 969,
   "metadata": {},
   "outputs": [],
   "source": [
    "def predict_tweet(tweet,freqs, theta):\n",
    "    x = extract_features(tweet,freqs)\n",
    "    y_pred = sigmoid(np.dot(x,theta))\n",
    "    return y_pred"
   ]
  },
  {
   "cell_type": "markdown",
   "metadata": {},
   "source": [
    "While testing we can see that some tweets that are shown as bad have given positive results. By increasing iterations we have created a more accurate model."
   ]
  },
  {
   "cell_type": "code",
   "execution_count": 970,
   "metadata": {},
   "outputs": [
    {
     "data": {
      "text/plain": [
       "array([[0.49520517]])"
      ]
     },
     "execution_count": 970,
     "metadata": {},
     "output_type": "execute_result"
    }
   ],
   "source": [
    "my_tweet = 'I am bad'\n",
    "predict_tweet(my_tweet,freqs,theta)"
   ]
  },
  {
   "cell_type": "code",
   "execution_count": 971,
   "metadata": {},
   "outputs": [],
   "source": [
    "def test_logistic_regression(test_x, test_y,freqs, theta, predict_tweet=predict_tweet):\n",
    "    y_hat = []\n",
    "    for tweet in test_x:\n",
    "        y_pred = predict_tweet(tweet,freqs,theta)\n",
    "        \n",
    "        if y_pred > 0.5:\n",
    "            y_hat.append(1.0)\n",
    "        else:\n",
    "            y_hat.append(0.0)\n",
    "    \n",
    "    accuracy = (np.asarray(y_hat) == np.squeeze(test_y)).sum()/len(test_x)\n",
    "\n",
    "    return accuracy\n",
    "    "
   ]
  },
  {
   "cell_type": "code",
   "execution_count": 972,
   "metadata": {},
   "outputs": [
    {
     "name": "stdout",
     "output_type": "stream",
     "text": [
      "Model's Accuracy = 0.5297\n"
     ]
    }
   ],
   "source": [
    "accuracy = test_logistic_regression(df_train_features,df_train_labels,freqs,theta)\n",
    "print(f\"Model's Accuracy = {accuracy:.4f}\")"
   ]
  }
 ],
 "metadata": {
  "interpreter": {
   "hash": "b0fa6594d8f4cbf19f97940f81e996739fb7646882a419484c72d19e05852a7e"
  },
  "kernelspec": {
   "display_name": "Python 3.11.4 64-bit",
   "language": "python",
   "name": "python3"
  },
  "language_info": {
   "codemirror_mode": {
    "name": "ipython",
    "version": 3
   },
   "file_extension": ".py",
   "mimetype": "text/x-python",
   "name": "python",
   "nbconvert_exporter": "python",
   "pygments_lexer": "ipython3",
   "version": "3.11.4"
  },
  "orig_nbformat": 4
 },
 "nbformat": 4,
 "nbformat_minor": 2
}
